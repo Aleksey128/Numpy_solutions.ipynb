{
  "nbformat": 4,
  "nbformat_minor": 0,
  "metadata": {
    "colab": {
      "provenance": [],
      "authorship_tag": "ABX9TyN+sIkdf/XjIGREuWVTMLs2",
      "include_colab_link": true
    },
    "kernelspec": {
      "name": "python3",
      "display_name": "Python 3"
    },
    "language_info": {
      "name": "python"
    }
  },
  "cells": [
    {
      "cell_type": "markdown",
      "metadata": {
        "id": "view-in-github",
        "colab_type": "text"
      },
      "source": [
        "<a href=\"https://colab.research.google.com/github/Aleksey128/Numpy_solutions.ipynb/blob/main/Numpy_solutions_ipynb.ipynb\" target=\"_parent\"><img src=\"https://colab.research.google.com/assets/colab-badge.svg\" alt=\"Open In Colab\"/></a>"
      ]
    },
    {
      "cell_type": "markdown",
      "source": [
        "**a.Импортируйте библиотеку NumPy**"
      ],
      "metadata": {
        "id": "Uz2b-6MO7cSu"
      }
    },
    {
      "cell_type": "code",
      "source": [
        "import numpy as np"
      ],
      "metadata": {
        "id": "5Ou1aQ917d2v"
      },
      "execution_count": null,
      "outputs": []
    },
    {
      "cell_type": "markdown",
      "source": [
        "**b.Создайте массив из 10 нулей**"
      ],
      "metadata": {
        "id": "X_zJgZDO8MKA"
      }
    },
    {
      "cell_type": "code",
      "source": [
        "a=np.zeros(10)\n",
        "print(a)"
      ],
      "metadata": {
        "colab": {
          "base_uri": "https://localhost:8080/"
        },
        "id": "gXpPEzng8ROD",
        "outputId": "611dcd32-b6f5-4532-ea2b-d979a92b113e"
      },
      "execution_count": null,
      "outputs": [
        {
          "output_type": "stream",
          "name": "stdout",
          "text": [
            "[0. 0. 0. 0. 0. 0. 0. 0. 0. 0.]\n"
          ]
        }
      ]
    },
    {
      "cell_type": "markdown",
      "source": [
        "**c.Создать массив из 10 единиц**"
      ],
      "metadata": {
        "id": "HmtITjQl946-"
      }
    },
    {
      "cell_type": "code",
      "source": [
        "a=np.ones(10)\n",
        "print(a)"
      ],
      "metadata": {
        "colab": {
          "base_uri": "https://localhost:8080/"
        },
        "id": "UMeDpwgO-Eki",
        "outputId": "ce4ffbd8-41c9-4bfb-e5bf-88650e4dcc9c"
      },
      "execution_count": null,
      "outputs": [
        {
          "output_type": "stream",
          "name": "stdout",
          "text": [
            "[1. 1. 1. 1. 1. 1. 1. 1. 1. 1.]\n"
          ]
        }
      ]
    },
    {
      "cell_type": "markdown",
      "source": [
        "**d.Создать массив из 10 пятерок**"
      ],
      "metadata": {
        "id": "LRI6iTJY-WP0"
      }
    },
    {
      "cell_type": "code",
      "source": [
        "a=np.arange(0,10)\n",
        "a[:]=5\n",
        "print(a)"
      ],
      "metadata": {
        "colab": {
          "base_uri": "https://localhost:8080/"
        },
        "id": "Q1cjGN8X-bd8",
        "outputId": "ed4c5493-250d-48be-f861-397e0b6c7db3"
      },
      "execution_count": null,
      "outputs": [
        {
          "output_type": "stream",
          "name": "stdout",
          "text": [
            "[5 5 5 5 5 5 5 5 5 5]\n"
          ]
        }
      ]
    },
    {
      "cell_type": "markdown",
      "source": [
        "**e.Создать массив из целых чисел от 10 до 50**"
      ],
      "metadata": {
        "id": "RzBZCfa-_HSr"
      }
    },
    {
      "cell_type": "code",
      "source": [
        "a=np.arange(10,51)\n",
        "print(a)"
      ],
      "metadata": {
        "colab": {
          "base_uri": "https://localhost:8080/"
        },
        "id": "hXgA5gQ2_LU2",
        "outputId": "4cea6f8a-8d68-43f4-b68f-929dc2f027d8"
      },
      "execution_count": null,
      "outputs": [
        {
          "output_type": "stream",
          "name": "stdout",
          "text": [
            "[10 11 12 13 14 15 16 17 18 19 20 21 22 23 24 25 26 27 28 29 30 31 32 33\n",
            " 34 35 36 37 38 39 40 41 42 43 44 45 46 47 48 49 50]\n"
          ]
        }
      ]
    },
    {
      "cell_type": "markdown",
      "source": [
        "**f.Создать массив из четных чисел от 10 до 50**"
      ],
      "metadata": {
        "id": "ptfgM3Ti_Lvm"
      }
    },
    {
      "cell_type": "code",
      "source": [
        "a=np.arange(10,51)\n",
        "x=a[a%2==0]\n",
        "print(x)"
      ],
      "metadata": {
        "colab": {
          "base_uri": "https://localhost:8080/"
        },
        "id": "Zxi-T2lW_Pze",
        "outputId": "5798f72b-0c6d-452e-94fd-b59bcc5da4ff"
      },
      "execution_count": null,
      "outputs": [
        {
          "output_type": "stream",
          "name": "stdout",
          "text": [
            "[10 12 14 16 18 20 22 24 26 28 30 32 34 36 38 40 42 44 46 48 50]\n"
          ]
        }
      ]
    },
    {
      "cell_type": "markdown",
      "source": [
        "**g.Создать матрицу 3х3 с числами от 0 до 8**"
      ],
      "metadata": {
        "id": "OH3KBZD5_QJ6"
      }
    },
    {
      "cell_type": "code",
      "source": [
        "x=np.arange(0,9).reshape(3,3)\n",
        "print(x)"
      ],
      "metadata": {
        "colab": {
          "base_uri": "https://localhost:8080/"
        },
        "id": "9AufxnEG_VIg",
        "outputId": "0a269e8b-578f-4fa6-d6e0-53c1c36a1dc8"
      },
      "execution_count": null,
      "outputs": [
        {
          "output_type": "stream",
          "name": "stdout",
          "text": [
            "[[0 1 2]\n",
            " [3 4 5]\n",
            " [6 7 8]]\n"
          ]
        }
      ]
    },
    {
      "cell_type": "markdown",
      "source": [
        "**h.Создать единичную матрицу 3x3**"
      ],
      "metadata": {
        "id": "edan0Tj5_VpL"
      }
    },
    {
      "cell_type": "code",
      "source": [
        "a=np.eye(3)\n",
        "print(a)"
      ],
      "metadata": {
        "colab": {
          "base_uri": "https://localhost:8080/"
        },
        "id": "JAGZZt42_g0m",
        "outputId": "4ca76ecf-d0e4-494b-fb60-a10eb7700bd2"
      },
      "execution_count": null,
      "outputs": [
        {
          "output_type": "stream",
          "name": "stdout",
          "text": [
            "[[1. 0. 0.]\n",
            " [0. 1. 0.]\n",
            " [0. 0. 1.]]\n"
          ]
        }
      ]
    },
    {
      "cell_type": "markdown",
      "source": [
        "**i.Используйте NumPy для генерации случайного числа от 0 до 1**"
      ],
      "metadata": {
        "id": "R6SYCoeZ_hOt"
      }
    },
    {
      "cell_type": "code",
      "source": [
        "a=np.random.rand()\n",
        "print(a)"
      ],
      "metadata": {
        "colab": {
          "base_uri": "https://localhost:8080/"
        },
        "id": "UaC26wRu_mMo",
        "outputId": "87d9aabe-2247-48e1-d277-35c73bd2cfe0"
      },
      "execution_count": null,
      "outputs": [
        {
          "output_type": "stream",
          "name": "stdout",
          "text": [
            "0.6488178471333998\n"
          ]
        }
      ]
    },
    {
      "cell_type": "markdown",
      "source": [
        "**j.Используйте NumPy для генерации массива из 25 случайных чисел,взятых из стандартного нормального распределения**"
      ],
      "metadata": {
        "id": "VKnloQKm_mmZ"
      }
    },
    {
      "cell_type": "code",
      "source": [
        "a=np.random.randn(25)\n",
        "print(a)"
      ],
      "metadata": {
        "colab": {
          "base_uri": "https://localhost:8080/"
        },
        "id": "L5Gp0unE_rdz",
        "outputId": "5c8b4fb1-b028-4497-97b0-8a5f416a9a13"
      },
      "execution_count": null,
      "outputs": [
        {
          "output_type": "stream",
          "name": "stdout",
          "text": [
            "[ 1.14960876 -0.43493981 -1.11750419  0.43714056  0.00534173 -0.64950794\n",
            "  0.18958582 -0.84543568  0.59087014  0.84731782 -1.4760957   0.49901153\n",
            " -0.7770824  -2.7255792  -0.49007257  0.07455158  0.22433184 -1.46378834\n",
            "  1.17349122  1.69006115  0.91468402  0.70930203 -1.11874096  1.58954073\n",
            " -0.75519727]\n"
          ]
        }
      ]
    },
    {
      "cell_type": "markdown",
      "source": [
        "**k.Создайте следующую матрицу используя функции библиотеки NumPy**"
      ],
      "metadata": {
        "id": "spHfr3E0_sKF"
      }
    },
    {
      "cell_type": "code",
      "source": [
        "x=np.arange(0.01,1.01,0.01).reshape(10,10)\n",
        "print(x)"
      ],
      "metadata": {
        "colab": {
          "base_uri": "https://localhost:8080/"
        },
        "id": "w-z9fk5h_9vB",
        "outputId": "09f5d8fb-af91-46a5-b6cd-a5c78d296445"
      },
      "execution_count": null,
      "outputs": [
        {
          "output_type": "stream",
          "name": "stdout",
          "text": [
            "[[0.01 0.02 0.03 0.04 0.05 0.06 0.07 0.08 0.09 0.1 ]\n",
            " [0.11 0.12 0.13 0.14 0.15 0.16 0.17 0.18 0.19 0.2 ]\n",
            " [0.21 0.22 0.23 0.24 0.25 0.26 0.27 0.28 0.29 0.3 ]\n",
            " [0.31 0.32 0.33 0.34 0.35 0.36 0.37 0.38 0.39 0.4 ]\n",
            " [0.41 0.42 0.43 0.44 0.45 0.46 0.47 0.48 0.49 0.5 ]\n",
            " [0.51 0.52 0.53 0.54 0.55 0.56 0.57 0.58 0.59 0.6 ]\n",
            " [0.61 0.62 0.63 0.64 0.65 0.66 0.67 0.68 0.69 0.7 ]\n",
            " [0.71 0.72 0.73 0.74 0.75 0.76 0.77 0.78 0.79 0.8 ]\n",
            " [0.81 0.82 0.83 0.84 0.85 0.86 0.87 0.88 0.89 0.9 ]\n",
            " [0.91 0.92 0.93 0.94 0.95 0.96 0.97 0.98 0.99 1.  ]]\n"
          ]
        }
      ]
    },
    {
      "cell_type": "markdown",
      "source": [
        "**l.Дана стартовая матрица (обязательно запустите код ниже в вашемрешении!). Эта матрица будет использоваться в последующих задачах**"
      ],
      "metadata": {
        "id": "9bCGoQNIAEyd"
      }
    },
    {
      "cell_type": "code",
      "source": [
        "mat = np.arange(1,26).reshape(5,5)\n",
        "print(mat)\n",
        "print('----')\n",
        "print(mat[2:,1:])\n"
      ],
      "metadata": {
        "colab": {
          "base_uri": "https://localhost:8080/"
        },
        "id": "tmVzgzUvAGoT",
        "outputId": "1b8ffcab-5d27-4e26-8ccc-67aa2eb219e4"
      },
      "execution_count": null,
      "outputs": [
        {
          "output_type": "stream",
          "name": "stdout",
          "text": [
            "[[ 1  2  3  4  5]\n",
            " [ 6  7  8  9 10]\n",
            " [11 12 13 14 15]\n",
            " [16 17 18 19 20]\n",
            " [21 22 23 24 25]]\n",
            "----\n",
            "[[12 13 14 15]\n",
            " [17 18 19 20]\n",
            " [22 23 24 25]]\n"
          ]
        }
      ]
    },
    {
      "cell_type": "markdown",
      "source": [
        "**m.Написать код обращения к элементу который вернет значение  20 изстартовой матрицы задачи l**"
      ],
      "metadata": {
        "id": "In7gPiykHtKK"
      }
    },
    {
      "cell_type": "code",
      "source": [
        "print(mat[3][4])"
      ],
      "metadata": {
        "colab": {
          "base_uri": "https://localhost:8080/"
        },
        "id": "tZKnnjDIHv3D",
        "outputId": "b01f4434-d357-443a-ea83-9302373ca8aa"
      },
      "execution_count": null,
      "outputs": [
        {
          "output_type": "stream",
          "name": "stdout",
          "text": [
            "20\n"
          ]
        }
      ]
    },
    {
      "cell_type": "markdown",
      "source": [
        "**n.Написать код к стартовой матрице задачи l , который воспроизводитвывод, показанный ниже**"
      ],
      "metadata": {
        "id": "LVIbBUdEIOtS"
      }
    },
    {
      "cell_type": "code",
      "source": [
        "print(mat[:3,1])"
      ],
      "metadata": {
        "colab": {
          "base_uri": "https://localhost:8080/"
        },
        "id": "7Vh9ispYITGx",
        "outputId": "8eef0955-e2a1-4185-88f1-e726101abe50"
      },
      "execution_count": null,
      "outputs": [
        {
          "output_type": "stream",
          "name": "stdout",
          "text": [
            "[ 2  7 12]\n"
          ]
        }
      ]
    },
    {
      "cell_type": "markdown",
      "source": [
        "**o.Написать код к стартовой матрице задачи l , который воспроизводитвывод, показанный ниже**"
      ],
      "metadata": {
        "id": "-zgDVZTTIt2b"
      }
    },
    {
      "cell_type": "code",
      "source": [
        "print(mat[4:])"
      ],
      "metadata": {
        "colab": {
          "base_uri": "https://localhost:8080/"
        },
        "id": "yF1_Q5dnIvjo",
        "outputId": "4b48d64e-7ece-48d2-c6de-85886c34190c"
      },
      "execution_count": null,
      "outputs": [
        {
          "output_type": "stream",
          "name": "stdout",
          "text": [
            "[[21 22 23 24 25]]\n"
          ]
        }
      ]
    },
    {
      "cell_type": "markdown",
      "source": [
        "**p.Написать код к стартовой матрице задачи l , который воспроизводитвывод, показанный ниже**"
      ],
      "metadata": {
        "id": "GC_3gAoYNzDF"
      }
    },
    {
      "cell_type": "code",
      "source": [
        "print(mat[3:])"
      ],
      "metadata": {
        "colab": {
          "base_uri": "https://localhost:8080/"
        },
        "id": "Jc8PnDwvN1YC",
        "outputId": "6b8de5f2-e8f0-478d-e8e7-3b3e38f1c245"
      },
      "execution_count": null,
      "outputs": [
        {
          "output_type": "stream",
          "name": "stdout",
          "text": [
            "[[16 17 18 19 20]\n",
            " [21 22 23 24 25]]\n"
          ]
        }
      ]
    },
    {
      "cell_type": "markdown",
      "source": [
        "**q.Получить сумму всех значений в стартовой матрице mat**"
      ],
      "metadata": {
        "id": "IEr3ZE4BOBz1"
      }
    },
    {
      "cell_type": "code",
      "source": [
        "s=sum(mat)\n",
        "b=sum(s)\n",
        "print(b)"
      ],
      "metadata": {
        "colab": {
          "base_uri": "https://localhost:8080/"
        },
        "id": "uTBcjdsTODir",
        "outputId": "934194de-c60d-41fe-a14d-edf6f855ab02"
      },
      "execution_count": null,
      "outputs": [
        {
          "output_type": "stream",
          "name": "stdout",
          "text": [
            "325\n"
          ]
        }
      ]
    },
    {
      "cell_type": "markdown",
      "source": [
        "**r.Получить стандартное отклонение в стартовой матрице mat**"
      ],
      "metadata": {
        "id": "nkxBAkdOPMMF"
      }
    },
    {
      "cell_type": "code",
      "source": [
        "print(np.std(mat))"
      ],
      "metadata": {
        "colab": {
          "base_uri": "https://localhost:8080/"
        },
        "id": "PEo3dQUMPR1e",
        "outputId": "e35be4f4-8b38-4c76-9a0d-57d78dac99ef"
      },
      "execution_count": null,
      "outputs": [
        {
          "output_type": "stream",
          "name": "stdout",
          "text": [
            "7.211102550927978\n"
          ]
        }
      ]
    },
    {
      "cell_type": "markdown",
      "source": [
        "**s.Получить сумму значений в колонках в стартовой матрице mat**"
      ],
      "metadata": {
        "id": "3UmdVqd6QGDP"
      }
    },
    {
      "cell_type": "code",
      "source": [
        "print(sum(mat))"
      ],
      "metadata": {
        "colab": {
          "base_uri": "https://localhost:8080/"
        },
        "id": "0-Kj3UjvQK4k",
        "outputId": "61a31a5a-5a36-4246-9609-a331f677fb42"
      },
      "execution_count": null,
      "outputs": [
        {
          "output_type": "stream",
          "name": "stdout",
          "text": [
            "[55 60 65 70 75]\n"
          ]
        }
      ]
    }
  ]
}